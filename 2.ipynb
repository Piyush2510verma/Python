{
 "cells": [
  {
   "cell_type": "code",
   "execution_count": 2,
   "metadata": {},
   "outputs": [],
   "source": [
    "import pandas as pd"
   ]
  },
  {
   "cell_type": "code",
   "execution_count": 3,
   "metadata": {},
   "outputs": [
    {
     "ename": "SyntaxError",
     "evalue": "unterminated string literal (detected at line 2) (1774395558.py, line 2)",
     "output_type": "error",
     "traceback": [
      "\u001b[1;36m  Cell \u001b[1;32mIn[3], line 2\u001b[1;36m\u001b[0m\n\u001b[1;33m    file_path = Rates_DF_Example.xls'\u001b[0m\n\u001b[1;37m                                    ^\u001b[0m\n\u001b[1;31mSyntaxError\u001b[0m\u001b[1;31m:\u001b[0m unterminated string literal (detected at line 2)\n"
     ]
    }
   ],
   "source": [
    "\n",
    "\n",
    "# Replace 'your_file.csv' with the actual path to your CSV file\n",
    "file_path = 'Rates_DF_Example.xls'\n",
    "df = pd.read_excel(file_path)\n",
    "\n",
    "# Display the first few rows of the dataframe\n",
    "print(\"First few rows of the dataframe:\")\n",
    "print(df.head())\n",
    "\n",
    "# Display general information about the dataframe\n",
    "print(\"\\nGeneral information about the dataframe:\")\n",
    "print(df.info())\n",
    "\n",
    "# Check for missing values\n",
    "print(\"\\nMissing values:\")\n",
    "print(df.isnull().sum())\n",
    "\n",
    "# Remove rows with missing values\n",
    "df_cleaned = df.dropna()\n",
    "\n",
    "# Display the shape of the cleaned dataframe\n",
    "print(\"\\nShape of the cleaned dataframe:\", df_cleaned.shape)\n",
    "\n",
    "# Display descriptive statistics for numeric columns\n",
    "print(\"\\nDescriptive statistics for numeric columns:\")\n",
    "print(df_cleaned.describe())\n",
    "\n",
    "# Calculate the mean, median, and standard deviation of the 'Cost' column\n",
    "mean_cost = df_cleaned['Cost for the service code'].mean()\n",
    "median_cost = df_cleaned['Cost for the service code'].median()\n",
    "std_dev_cost = df_cleaned['Cost for the service code'].std()\n",
    "\n",
    "print(\"\\nMean Cost:\", mean_cost)\n",
    "print(\"Median Cost:\", median_cost)\n",
    "print(\"Standard Deviation of Cost:\", std_dev_cost)\n",
    "\n",
    "# Group data by 'Hospital ID' and calculate statistics\n",
    "grouped = df_cleaned.groupby('Hospital ID')\n",
    "hospital_stats = grouped['Cost for the service code'].agg(['mean', 'median', 'std', 'count'])\n",
    "\n",
    "print(\"\\nStatistics grouped by Hospital ID:\")\n",
    "print(hospital_stats)\n"
   ]
  },
  {
   "cell_type": "code",
   "execution_count": null,
   "metadata": {},
   "outputs": [],
   "source": []
  }
 ],
 "metadata": {
  "kernelspec": {
   "display_name": "Python 3",
   "language": "python",
   "name": "python3"
  },
  "language_info": {
   "codemirror_mode": {
    "name": "ipython",
    "version": 3
   },
   "file_extension": ".py",
   "mimetype": "text/x-python",
   "name": "python",
   "nbconvert_exporter": "python",
   "pygments_lexer": "ipython3",
   "version": "3.11.3"
  },
  "orig_nbformat": 4
 },
 "nbformat": 4,
 "nbformat_minor": 2
}
