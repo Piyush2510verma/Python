{
 "cells": [
  {
   "cell_type": "code",
   "execution_count": 2,
   "metadata": {},
   "outputs": [],
   "source": [
    "import pandas as pd"
   ]
  },
  {
   "cell_type": "code",
   "execution_count": 5,
   "metadata": {},
   "outputs": [
    {
     "name": "stdout",
     "output_type": "stream",
     "text": [
      "First few rows of the dataframe:\n",
      "   service_code service_code_description hospital_ID     cost\n",
      "0         29870             Knee surgery  1003820630  1432.34\n",
      "1         29870             Knee surgery  1003820630  1016.51\n",
      "2         29850              Hip Surgery  1003820630  1519.18\n",
      "3         29850              Hip Surgery  1003820630  1519.18\n",
      "4         22818            Covid Vaccine  1003820630  5402.73\n",
      "\n",
      "General information about the dataframe:\n",
      "<class 'pandas.core.frame.DataFrame'>\n",
      "RangeIndex: 10754 entries, 0 to 10753\n",
      "Data columns (total 4 columns):\n",
      " #   Column                    Non-Null Count  Dtype  \n",
      "---  ------                    --------------  -----  \n",
      " 0   service_code              10754 non-null  int64  \n",
      " 1   service_code_description  10754 non-null  object \n",
      " 2   hospital_ID               10754 non-null  object \n",
      " 3   cost                      10754 non-null  float64\n",
      "dtypes: float64(1), int64(1), object(2)\n",
      "memory usage: 336.2+ KB\n",
      "None\n",
      "\n",
      "Missing values:\n",
      "service_code                0\n",
      "service_code_description    0\n",
      "hospital_ID                 0\n",
      "cost                        0\n",
      "dtype: int64\n"
     ]
    }
   ],
   "source": [
    "\n",
    "\n",
    "# Replace 'your_file.csv' with the actual path to your CSV file\n",
    "file_path = 'Rates_DF_Example.xls'\n",
    "df = pd.read_excel(file_path)\n",
    "\n",
    "# Display the first few rows of the dataframe\n",
    "print(\"First few rows of the dataframe:\")\n",
    "print(df.head())\n",
    "\n",
    "# Display general information about the dataframe\n",
    "print(\"\\nGeneral information about the dataframe:\")\n",
    "print(df.info())\n",
    "\n",
    "# Check for missing values\n",
    "print(\"\\nMissing values:\")\n",
    "print(df.isnull().sum())\n"
   ]
  },
  {
   "cell_type": "code",
   "execution_count": 7,
   "metadata": {},
   "outputs": [
    {
     "name": "stdout",
     "output_type": "stream",
     "text": [
      "\n",
      "Shape of the cleaned dataframe: (10754, 4)\n",
      "\n",
      "Descriptive statistics for numeric columns:\n",
      "       service_code          cost\n",
      "count  10754.000000  10754.000000\n",
      "mean   27513.814767   1769.371624\n",
      "std     3319.449052   1632.969857\n",
      "min    22818.000000    351.220000\n",
      "25%    22818.000000    701.460000\n",
      "50%    29850.000000   1002.290000\n",
      "75%    29870.000000   2501.200000\n",
      "max    29870.000000  20843.360000\n"
     ]
    }
   ],
   "source": [
    "\n",
    "# Remove rows with missing values\n",
    "df_cleaned = df.dropna()\n",
    "\n",
    "# Display the shape of the cleaned dataframe\n",
    "print(\"\\nShape of the cleaned dataframe:\", df_cleaned.shape)\n",
    "\n",
    "# Display descriptive statistics for numeric columns\n",
    "print(\"\\nDescriptive statistics for numeric columns:\")\n",
    "print(df_cleaned.describe())\n"
   ]
  },
  {
   "cell_type": "code",
   "execution_count": 9,
   "metadata": {},
   "outputs": [
    {
     "name": "stdout",
     "output_type": "stream",
     "text": [
      "\n",
      "Mean Cost: 1769.3716235819227\n",
      "Median Cost: 1002.29\n",
      "Standard Deviation of Cost: 1632.9698565730098\n"
     ]
    }
   ],
   "source": [
    "\n",
    "# Calculate the mean, median, and standard deviation of the 'Cost' column\n",
    "mean_cost = df_cleaned['cost'].mean()\n",
    "median_cost = df_cleaned['cost'].median()\n",
    "std_dev_cost = df_cleaned['cost'].std()\n",
    "\n",
    "print(\"\\nMean Cost:\", mean_cost)\n",
    "print(\"Median Cost:\", median_cost)\n",
    "print(\"Standard Deviation of Cost:\", std_dev_cost)\n"
   ]
  },
  {
   "cell_type": "code",
   "execution_count": 11,
   "metadata": {},
   "outputs": [
    {
     "name": "stdout",
     "output_type": "stream",
     "text": [
      "\n",
      "Statistics grouped by hospital_ID:\n",
      "                    mean   median          std  count\n",
      "hospital_ID                                          \n",
      "1003820630   2715.445000  1519.18  2089.872715      6\n",
      "1013970078   2715.445000  1519.18  2089.872715      6\n",
      "1043378979   1217.766667   698.56   917.625824      6\n",
      "1063475580   2715.445000  1519.18  2089.872715      6\n",
      "1114358348   2384.770000  2944.26  1106.871974      6\n",
      "...                  ...      ...          ...    ...\n",
      "90-0811673   1277.945000   612.71  1094.183392      6\n",
      "90-0907893   1267.520000   701.46  1012.857880      3\n",
      "94-3283324   1537.285000   875.14  1160.813960      6\n",
      "95-4565259   2715.445000  1519.18  2089.872715      6\n",
      "95-4662001   1189.283333   664.62   945.262202      3\n",
      "\n",
      "[1463 rows x 4 columns]\n"
     ]
    }
   ],
   "source": [
    "\n",
    "# Group data by 'Hospital ID' and calculate statistics\n",
    "grouped = df_cleaned.groupby('hospital_ID')\n",
    "hospital_stats = grouped['cost'].agg(['mean', 'median', 'std', 'count'])\n",
    "\n",
    "print(\"\\nStatistics grouped by hospital_ID:\")\n",
    "print(hospital_stats)\n"
   ]
  },
  {
   "cell_type": "code",
   "execution_count": 23,
   "metadata": {},
   "outputs": [
    {
     "name": "stdout",
     "output_type": "stream",
     "text": [
      "  Service Code Description  Service Code Costliest Hospital ID  \\\n",
      "0             Knee surgery         29870            20-8624691   \n",
      "1              Hip Surgery         29850            20-8624691   \n",
      "2            Covid Vaccine         22818            20-8624691   \n",
      "\n",
      "  Cheapest Hospital ID  \n",
      "0           20-8075502  \n",
      "1           20-8075502  \n",
      "2           27-1145142  \n"
     ]
    }
   ],
   "source": [
    "\n",
    "\n",
    "def calculate_rankings(df):\n",
    "    # Group data by 'service_code_description' and calculate rankings within each group\n",
    "    df['Rank'] = df.groupby('service_code_description')['cost'].rank(ascending=True)\n",
    "    \n",
    "    # Create a list to store rows for the result dataframe\n",
    "    result_rows = []\n",
    "    \n",
    "    # Iterate over unique service code descriptions and find costliest and cheapest hospital IDs\n",
    "    for service_code_description in df['service_code_description'].unique():\n",
    "        service_df = df[df['service_code_description'] == service_code_description]\n",
    "        \n",
    "        costliest_hospital = service_df.loc[service_df['Rank'].idxmax()]\n",
    "        cheapest_hospital = service_df.loc[service_df['Rank'].idxmin()]\n",
    "        \n",
    "        result_rows.append({\n",
    "            'Service Code Description': service_code_description,\n",
    "            'Service Code': costliest_hospital['service_code'],\n",
    "            'Costliest Hospital ID': costliest_hospital['hospital_ID'],\n",
    "            'Cheapest Hospital ID': cheapest_hospital['hospital_ID']\n",
    "        })\n",
    "    \n",
    "    # Create the result dataframe using pd.DataFrame\n",
    "    result_df = pd.DataFrame(result_rows)\n",
    "    \n",
    "    return result_df\n",
    "\n",
    "# Replace 'Rates_DF_Example.xls' with the actual path to your Excel file\n",
    "file_path = 'Rates_DF_Example.xls'\n",
    "df = pd.read_excel(file_path)\n",
    "\n",
    "# Clean the data (drop rows with missing values)\n",
    "df_cleaned = df.dropna(subset=['cost', 'service_code', 'service_code_description', 'hospital_ID'])\n",
    "\n",
    "# Calculate rankings and costliest/cheapest hospital IDs\n",
    "result = calculate_rankings(df_cleaned)\n",
    "\n",
    "print(result)\n"
   ]
  },
  {
   "cell_type": "code",
   "execution_count": 44,
   "metadata": {},
   "outputs": [
    {
     "name": "stdout",
     "output_type": "stream",
     "text": [
      "Service Code: 22818\n",
      "Mean Cost: 3510.2164387385487\n",
      "Standard Deviation: 1717.3378553213065\n",
      "--------------------\n",
      "Service Code: 29850\n",
      "Mean Cost: 971.4395021097149\n",
      "Standard Deviation: 493.6001521488956\n",
      "--------------------\n",
      "Service Code: 29870\n",
      "Mean Cost: 828.8853733406972\n",
      "Standard Deviation: 504.4764862143422\n",
      "--------------------\n"
     ]
    }
   ],
   "source": [
    "\n",
    "import sqlite3\n",
    "\n",
    "# Replace 'Rates_DF_Example.xls' with the actual path to your Excel file\n",
    "xls_file_path = 'Rates_DF_Example.xls'\n",
    "\n",
    "# Read the XLS file into a Pandas DataFrame\n",
    "df = pd.read_excel(xls_file_path)\n",
    "\n",
    "# Replace 'your_database.db' with the desired name for your SQLite database\n",
    "db_file = 'Rates_DF.db'\n",
    "\n",
    "# Create a connection to the SQLite database\n",
    "conn = sqlite3.connect(db_file)\n",
    "\n",
    "# Write the DataFrame to the SQLite database\n",
    "df.to_sql('DF_Table', conn, if_exists='replace', index=False)\n",
    "\n",
    "\n",
    "# Replace 'your_database.db' with the actual name of your SQLite database file\n",
    "db_file = 'Rates_DF.db'\n",
    "\n",
    "\n",
    "# Create a connection to the SQLite database\n",
    "conn = sqlite3.connect(db_file)\n",
    "\n",
    "# SQL query to calculate mean of the cost across each service code\n",
    "mean_query = '''\n",
    "SELECT\n",
    "    service_code,\n",
    "    AVG(cost) AS mean_cost\n",
    "FROM\n",
    "    \"DF_Table\"\n",
    "GROUP BY\n",
    "    service_code;\n",
    "'''\n",
    "\n",
    "# Execute the mean query and fetch the results\n",
    "mean_results = conn.execute(mean_query).fetchall()\n",
    "\n",
    "# SQL query to calculate standard deviation of the cost across each service code\n",
    "std_dev_query = '''\n",
    "SELECT\n",
    "    \"DF_Table\".service_code,\n",
    "    SQRT(AVG((\"DF_Table\".cost - mean_subquery.mean_cost) * (\"DF_Table\".cost - mean_subquery.mean_cost))) AS std_dev_cost\n",
    "FROM\n",
    "    \"DF_Table\"\n",
    "JOIN (\n",
    "    SELECT\n",
    "        service_code,\n",
    "        AVG(cost) AS mean_cost\n",
    "    FROM\n",
    "        \"DF_Table\"\n",
    "    GROUP BY\n",
    "        service_code\n",
    ") AS mean_subquery\n",
    "ON \"DF_Table\".service_code = mean_subquery.service_code\n",
    "GROUP BY\n",
    "    \"DF_Table\".service_code;\n",
    "'''\n",
    "\n",
    "# Execute the standard deviation query and fetch the results\n",
    "std_dev_results = conn.execute(std_dev_query).fetchall()\n",
    "\n",
    "# Combine the results into a dictionary for easy printing\n",
    "results_dict = {}\n",
    "for row in mean_results:\n",
    "    results_dict[row[0]] = {'mean_cost': row[1]}\n",
    "\n",
    "for row in std_dev_results:\n",
    "    results_dict[row[0]]['std_dev_cost'] = row[1]\n",
    "\n",
    "# Print the results\n",
    "for service_code, stats in results_dict.items():\n",
    "    print(\"Service Code:\", service_code)\n",
    "    print(\"Mean Cost:\", stats['mean_cost'])\n",
    "    print(\"Standard Deviation:\", stats['std_dev_cost'])\n",
    "    print(\"-\" * 20)\n",
    "\n",
    "# Close the database connection\n",
    "conn.close()\n",
    "\n"
   ]
  }
 ],
 "metadata": {
  "kernelspec": {
   "display_name": "Python 3",
   "language": "python",
   "name": "python3"
  },
  "language_info": {
   "codemirror_mode": {
    "name": "ipython",
    "version": 3
   },
   "file_extension": ".py",
   "mimetype": "text/x-python",
   "name": "python",
   "nbconvert_exporter": "python",
   "pygments_lexer": "ipython3",
   "version": "3.11.3"
  },
  "orig_nbformat": 4
 },
 "nbformat": 4,
 "nbformat_minor": 2
}
